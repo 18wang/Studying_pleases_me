{
 "cells": [
  {
   "cell_type": "markdown",
   "metadata": {},
   "source": [
    "# numpy<br>"
   ]
  },
  {
   "cell_type": "markdown",
   "metadata": {},
   "source": [
    "## broadcating 广播特性<br>\n",
    "一些网站:[scipy](https://docs.scipy.org/doc/numpy-1.13.0/user/basics.broadcasting.html)   \n",
    "[someone's blog](https://wenkefendou.gitbooks.io/python3-learning/content/numpyji_chu_er.html) <br>\n",
    "广播是numpy中的一项奇技淫巧,必须掌握.它所体现的矩阵(向量)思想在进行大规模数据运算时很有效果,是简化运算和降低程序复杂度的重要手段.<br>\n",
    "两个矩阵(m*n,x*y)乘法必须满足n==x,但是在numpy中你会发现其实是对应项相乘的,这会比较直观,但是有点棘手,因为两个ndarrays的维度极少是*相同*的,此时broadcasting就会跑出来.<br>\n",
    "NumPy在数组运算时会自动对比两个数组的形状。首先对比数组***最后一轴***的大小，依次向前对比。以下两种情况是兼容可运算的：<br>\n",
    "***1.形状相同  <br>\n",
    "2.其中一个维度为1*** <br>\n",
    "如果不符合运算条件，理论上会异常，表明两个数组的形状不同不能运算。不过如果较大的维度能够**整除**较小的维度,那arrays就会自动扩展较小的维度整数倍,以实现两者同一.<br>\n",
    "运算结果的数组形状每一维都是输入数组中的***最大值***<br>\n",
    "譬如:<br>\n",
    "A      (4d array):  8 x  1 x 6 x 1 <br>\n",
    "B      (3d array):     7 x 2 x 5 <br>\n",
    "Result (4d array):   8 x  7 x 6 x 5 <br>"
   ]
  },
  {
   "cell_type": "code",
   "execution_count": 29,
   "metadata": {},
   "outputs": [
    {
     "name": "stdout",
     "output_type": "stream",
     "text": [
      "[[ 0  2  6]\n",
      " [ 3  8 15]]\n",
      "(2, 3) (3,) (2, 3) \n",
      "\n",
      "[[0 0 0]\n",
      " [1 2 3]\n",
      " [2 4 6]]\n",
      "(3, 1) (3,) (3, 3)\n"
     ]
    }
   ],
   "source": [
    "import numpy as np\n",
    "A=np.arange(6).reshape([2,3])#毫无疑问B的最后一个维度是3\n",
    "B=np.array([1,2,3])\n",
    "print(A*B)\n",
    "print(A.shape,B.shape,(A*B).shape,'\\n')\n",
    "A0=A[0].reshape([3,1])\n",
    "print(A0*B) #可以很明显看出A0的3*1中的'1'扩展成了3\n",
    "print(A0.shape,B.shape,(A0*B).shape)"
   ]
  },
  {
   "cell_type": "markdown",
   "metadata": {},
   "source": [
    "回顾numpy\n",
    "## 一些基本规则<br>\n",
    "将numpy想象为一个n维的矩阵,每一维又有mi个元素,即ni=mi,这有助于对一些算法的认识和理解.尽管这对逻辑和空间想象能力要求很高."
   ]
  },
  {
   "cell_type": "code",
   "execution_count": null,
   "metadata": {
    "collapsed": true
   },
   "outputs": [],
   "source": [
    "import numpy as np\n",
    "A=np.array([0,1,2],dtype=int)\n",
    "B=np.array([0,1,2],dtype=float)\n",
    "print(B.dtype)\n",
    "print(A,'\\t',B)"
   ]
  },
  {
   "cell_type": "markdown",
   "metadata": {},
   "source": [
    "np.ndim:输出ndarray的维度<br>\n",
    "np.shape:输出ndarray的大小<br>\n",
    "np.size(A,axis=None)：输出A的某个axis的值，如果输入为None,则输出所有数据的个数，即 ∏ni<br>\n",
    "np.reshape(n,m):对已有的ndarray进行重塑<br>\n",
    "\n",
    "array：创建数组<br>\n",
    "dtype：指定数据类型<br>\n",
    "zeros：创建数据全为0<br>\n",
    "ones：创建数据全为1<br>\n",
    "empty：创建数据接近0<br>\n",
    "arrange：按指定范围创建数据<br>\n",
    "***random***: 类似于python当中的random模块，有random.random/.choice等多个函数\n",
    "\n",
    "linspace：创建线段<br>\n",
    "\n",
    "Definition : linspace(start, stop, num=50, endpoint=True, retstep=False, dtype=None)<br>\n",
    "Type : Function of numpy.core.function_base module"
   ]
  },
  {
   "cell_type": "code",
   "execution_count": null,
   "metadata": {
    "collapsed": true
   },
   "outputs": [],
   "source": [
    "Line=np.linspace(0,14,num=15,dtype=int)#defaut的num大小为50，可设置\n",
    "print(Line,'\\nLine维度是',Line.ndim)\n",
    "print('Line大小是',Line.shape)\n",
    "Line=Line.reshape(5,3)\n",
    "print(Line,'\\n现在Line维度是',Line.ndim)\n",
    "print('现在Line大小是',Line.shape,Line.size)"
   ]
  },
  {
   "cell_type": "markdown",
   "metadata": {
    "collapsed": true
   },
   "source": [
    "## 数学运算<br>\n",
    "+、-、*、/、符合矩阵的一般运算规则<br>\n",
    "<、>、！=、==等比较大小为逐个比较<br>\n",
    "矩阵乘法需要调用np.dot(A,B) 来实现,*只能逐个相乘"
   ]
  },
  {
   "cell_type": "code",
   "execution_count": null,
   "metadata": {
    "collapsed": true
   },
   "outputs": [],
   "source": [
    "import numpy as np\n",
    "a=np.arange(4).reshape([2,2])\n",
    "b=np.ones([2,2],dtype=int)\n",
    "print(a*b)\n",
    "print(np.dot(a,b))"
   ]
  },
  {
   "cell_type": "markdown",
   "metadata": {},
   "source": [
    "## 科学计算<br>\n",
    "numpy.sum(a, axis=None, dtype=None, out=None)<br>\n",
    "numpy.min(a, axis=None, out=None)<br>\n",
    "numpy.max()<br>\n",
    "**numpy.argmin()** #return the indices of the minimum values along an axis.<br>\n",
    "numpy.mean(a, axis=None, dtype=None, out=None)<br>\n",
    "numpy.average(a, axis=None, weights=None, returned=False) <br>\n",
    "<p>\n",
    "np.cumsum() #累加和函数 <br>\n",
    "np.transpose(a) or a.T  #转置 <br>\n",
    "np.median() #中位数 <br>\n",
    "np.diff(a, n=1, axis=-1)  #累差，n代表累差几轮，输出结果是 x-n 维<br>\n",
    "np.sort(a) #对某维的值进行排序<br>\n",
    "np.clip(a, a_min, a_max, out=None) #如果 a_min>ai,ai=amin ;ai>a_max,ai=a_max"
   ]
  },
  {
   "cell_type": "code",
   "execution_count": null,
   "metadata": {
    "collapsed": true
   },
   "outputs": [],
   "source": [
    "import numpy as np\n",
    "data = np.arange(6,0,-1).reshape((3,2))\n",
    "print(data,'\\n')\n",
    "print('np.average',np.average(data, axis=1, weights=[1./4, 3./4]))\n",
    "#对1维进行求和，0维为3，结果为(3,)的ndarray，兼有加权\n",
    "print(data.min())#输出最小值\n",
    "print(data.argmin(),'\\n')#输出下标\n",
    "\n",
    "x = np.array([1, 2, 4, 7, 0])\n",
    "print(np.diff(x))\n",
    "print(np.diff(x, n=2))\n",
    "\n",
    "print('\\n',np.sort(data,axis=0))\n",
    "print(np.clip(data,2,4))"
   ]
  },
  {
   "cell_type": "markdown",
   "metadata": {},
   "source": [
    "## 索引<br>\n",
    "需要找到ndarray中的元素需要对其进行索引，索引的方式很多，一般分为一位索引和二位索引<br>\n",
    "### 一维索引<br>\n",
    "与C语言的数组相类似，举例说明"
   ]
  },
  {
   "cell_type": "code",
   "execution_count": null,
   "metadata": {
    "collapsed": true
   },
   "outputs": [],
   "source": [
    "import numpy as np\n",
    "A=np.arange(12,0,-1)\n",
    "print(A)\n",
    "print(A[2],'\\t',A[1:4])#索引和切片\n",
    "B=A.reshape([6,2])\n",
    "print('\\n',B)\n",
    "print(B.shape)\n",
    "print(B[1])#输出的是第一个维度当中的‘1’所有元素\n",
    "print(B[1:3])#输出第一个维度中的'1、2'所有元素\n",
    "print('\\n',B.T[0])#如果你需要第一列，不妨使用转置"
   ]
  },
  {
   "cell_type": "markdown",
   "metadata": {},
   "source": [
    "### 二维索引<br>\n",
    "仍然与C语言的性质类似,此外可以使用flatten将多维数组展开"
   ]
  },
  {
   "cell_type": "code",
   "execution_count": null,
   "metadata": {
    "collapsed": true
   },
   "outputs": [],
   "source": [
    "print(B[4][0])\n",
    "print(B.flatten())"
   ]
  },
  {
   "cell_type": "markdown",
   "metadata": {
    "collapsed": true
   },
   "source": [
    "## array的合并<br>\n",
    "为什么要合并？切片合并是重要的运算手段，随着理解运用的进一步加深，会越来越广泛地接触到。<br>\n",
    "_np.vstack(**tup**)_ 一般 tup=(A,B) 能够对A,B进行第一维即(the first axis)合并<br>\n",
    "tup : sequence of ndarrays<br>\n",
    "Tuple containing arrays to be stacked. The arrays must have the same shape along all but the first axis.<p>\n",
    "_np.hstack(**tup**)_ 对A,B进行第二维的合并，通常是列(the second axis)<br>\n",
    "All arrays must have the same shape along all but the second axis."
   ]
  },
  {
   "cell_type": "code",
   "execution_count": null,
   "metadata": {
    "collapsed": true
   },
   "outputs": [],
   "source": [
    "L = B\n",
    "L = np.sort(L,axis=0)#return a ndarrays\n",
    "print(np.vstack((L,B)))"
   ]
  },
  {
   "cell_type": "markdown",
   "metadata": {},
   "source": [
    "_np.newaxis()_ 可以帮助你创建新的维度<br>\n",
    "_np.concatenate()_ 针对多个矩阵的合并较为简单 <br>"
   ]
  },
  {
   "cell_type": "markdown",
   "metadata": {},
   "source": [
    "## 分割<br>\n",
    "**np.split(ary, indices_or_sections, axis=n)**  <br>\n",
    "值得注意的一点是A的nth axis要求是indi..的整数倍 <br>\n",
    "\n",
    "np.vsplit(A) 按行分割<br>\n",
    "np.hsplit(A) 按列分割<br>"
   ]
  },
  {
   "cell_type": "code",
   "execution_count": null,
   "metadata": {
    "collapsed": true
   },
   "outputs": [],
   "source": [
    "print(np.split(B,3,axis=0))#按行\n",
    "print(np.vsplit(B,3))\n",
    "print('\\n',np.split(B,2,axis=1))#按列\n",
    "print(np.hsplit(B,2))"
   ]
  },
  {
   "cell_type": "markdown",
   "metadata": {},
   "source": [
    "_np.array_split(A)_ 可以进行不规则分割，即A的nth axis不是indi..的整数倍时"
   ]
  },
  {
   "cell_type": "code",
   "execution_count": 21,
   "metadata": {},
   "outputs": [
    {
     "name": "stdout",
     "output_type": "stream",
     "text": [
      "[array([[12, 11],\n",
      "       [10,  9]]), array([[8, 7],\n",
      "       [6, 5]]), array([[4, 3]]), array([[2, 1]])]\n"
     ]
    }
   ],
   "source": [
    "print(np.array_split(B,4,axis=0))#这里被分成2、2、1、1"
   ]
  },
  {
   "cell_type": "markdown",
   "metadata": {},
   "source": [
    "## 拷贝与深拷贝<br>\n",
    "### 1.简单的赋值会公用一个地址,因此任意值的改变都会影响其他<br>\n",
    "此时Na,Nb,Nc只是**变量名**不同,但是**完全相等**"
   ]
  },
  {
   "cell_type": "code",
   "execution_count": 9,
   "metadata": {},
   "outputs": [
    {
     "name": "stdout",
     "output_type": "stream",
     "text": [
      "[ True  True  True  True] \t True\n",
      "[ True  True  True  True] \t False\n",
      "[0 1 2 3] [0 1 2 3] [0 1 2 3]\n",
      "[0 5 2 3] [0 5 2 3] [0 5 2 3]\n",
      "[0 5 6 3] [0 5 6 3] [0 5 6 3]\n"
     ]
    }
   ],
   "source": [
    "import numpy as np\n",
    "Na=np.arange(4)\n",
    "NT=np.arange(4)\n",
    "Nb=Na\n",
    "Nc=Na\n",
    "print(Na==Nb,'\\t',Na is Nb) # '=='进行的是逐个比较,'is'这是面对整个对象\n",
    "print(Na==NT,'\\t',Na is NT) # 值相等,不同变量\n",
    "print(Na,Nb,Nc)\n",
    "Na[1]=5 #改变Na影响其他\n",
    "print(Na,Nb,Nc)\n",
    "Nb[2]=6 #改变Nb也是如此\n",
    "print(Na,Nb,Nc)"
   ]
  },
  {
   "cell_type": "markdown",
   "metadata": {},
   "source": [
    "### 2.copy()方式生成一个不同的变量"
   ]
  },
  {
   "cell_type": "code",
   "execution_count": 10,
   "metadata": {},
   "outputs": [
    {
     "name": "stdout",
     "output_type": "stream",
     "text": [
      "[ True  True  True  True] \t False\n"
     ]
    }
   ],
   "source": [
    "NT2=np.copy(Na)\n",
    "print(Na==NT2,'\\t',Na is NT2) #和NT的效果是一致的"
   ]
  },
  {
   "cell_type": "code",
   "execution_count": null,
   "metadata": {
    "collapsed": true
   },
   "outputs": [],
   "source": []
  }
 ],
 "metadata": {
  "kernelspec": {
   "display_name": "Python 3",
   "language": "python",
   "name": "python3"
  },
  "language_info": {
   "codemirror_mode": {
    "name": "ipython",
    "version": 3
   },
   "file_extension": ".py",
   "mimetype": "text/x-python",
   "name": "python",
   "nbconvert_exporter": "python",
   "pygments_lexer": "ipython3",
   "version": "3.6.1"
  }
 },
 "nbformat": 4,
 "nbformat_minor": 2
}
