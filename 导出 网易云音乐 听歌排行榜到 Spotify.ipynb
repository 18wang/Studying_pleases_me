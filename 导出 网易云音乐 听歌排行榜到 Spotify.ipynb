{
 "cells": [
  {
   "cell_type": "markdown",
   "metadata": {},
   "source": [
    "## 导出 网易云音乐 听歌排行榜到 Spotify    \n",
    "[网易云](https://music.163.com) 和 [Spotify](https://open.spotify.com/) 都是很不错的音乐平台,在一定的领域内富有竞争力. 网易云有听歌排行的功能, 现在我需要将我听过很多遍(在排行榜上位居前列)的歌导出, 并在 Spotify 中创建歌单.          \n",
    "参考教程: https://gist.github.com/mayneyao/c4690ed730a95a14aeb949165c03948c#comments   \n",
    "\n",
    "\n",
    "代码如下:    \n",
    "```javascript      \n",
    "let allSongsDiv = document.querySelectorAll('div.song > div.tt > div > span');\n",
    "let songList = [];\n",
    "allSongsDiv.forEach(item=>songList.push(item.innerText));\n",
    "let clearSongList = songList.map(item=>{\n",
    "  let [name,artist] = item.split(\" -\");\n",
    "  return `${name} - ${artist}`\n",
    "})\n",
    "\n",
    "let text = clearSongList.join('\\n');\n",
    "text\n",
    "```\n",
    "如果不熟悉 JS 的语法和函数, 这 [javascirpt参考](http://www.runoob.com/jsref/met-document-queryselectorall.html)  会是一个好的帮助.\n",
    "\n",
    "### 实际的操作结果如下图: \n",
    "\n",
    "<img src=\"https://raw.githubusercontent.com/18wang/allKindsOfResource/master/pic/pic1.png\" width=600>    \n"
   ]
  },
  {
   "cell_type": "markdown",
   "metadata": {},
   "source": [
    "## 具体步骤     \n",
    "1. 针对网易云音乐web版，访问 https://music.163.com/#/user/songs/rank?id=<个人用户ID> ,点击 **听歌排行榜-所有时间-查看更多**,进入想要提取的界面.      \n",
    "2. 点击任意歌曲,右键***检查(元素)*** 出现控制台,在 Console 中键入以上代码, 回车.     \n",
    "\n",
    ">**Tip:** 非常值得注意的一点是, 如果你点击检查, 或者进行类似的操作, 只是直接敲击 **F12** ,然后再 Console 中操作, 是不会返回任何字符串的!\n",
    "\n",
    "3. 进入 [Spotilistr](https://www.spotlistr.com/search/textbox) 应该是一个 Spotify 歌单创建或者迁移的网站, 支持刚刚输出的文本格式的歌曲导入, 把输出结果复制到搜索框中即可. 结果如下,不过遗憾的是, 因为语言和版权,或者格式的原因, 很多音乐未能再 Spotify 中找到.     \n",
    "<img src=\"https://raw.githubusercontent.com/18wang/allKindsOfResource/master/pic/neteasecloudmusic.png\" width=600>    \n",
    " \n",
    "4. 这样我的 Spotify 歌单[netease_cloud_music_wxy](https://open.spotify.com/playlist/5cMNMAvsg2KzYofkH2tFza)就迁移好了, 欢迎来听!"
   ]
  },
  {
   "cell_type": "code",
   "execution_count": null,
   "metadata": {},
   "outputs": [],
   "source": []
  }
 ],
 "metadata": {
  "kernelspec": {
   "display_name": "Python 3",
   "language": "python",
   "name": "python3"
  },
  "language_info": {
   "name": ""
  }
 },
 "nbformat": 4,
 "nbformat_minor": 2
}
