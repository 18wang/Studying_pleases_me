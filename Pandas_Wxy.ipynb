{
 "cells": [
  {
   "cell_type": "markdown",
   "metadata": {},
   "source": [
    "# Pandas<br>\n",
    "pandas是一个强有力的数据分析处理python库,它与numpy的区别:<br>\n",
    "1.pandas是类似字典式的,具有*内置*的索引标签<br>\n",
    "2.numpy像*矩阵*,pandas像*Excel*,各有所长<br>\n",
    "3.支持文件!<p>\n",
    "**Series**  是一个大小为**n*1**的值序列,即列为1,前面是值的序号<br>\n",
    "首先来创建一个Series('S'大写): <br>\n",
    "Series的字符串表现形式为：索引在左边，值在右边。默认索引为0到N-1（N为长度）的整数.<br>"
   ]
  },
  {
   "cell_type": "code",
   "execution_count": null,
   "metadata": {},
   "outputs": [],
   "source": [
    "import numpy as np\n",
    "import pandas as pd\n",
    "na=np.array([34,'test',4.87])\n",
    "npd=pd.Series([34,'test',4.87])\n",
    "print(na,'\\n',npd)\n",
    "print(npd[0:2],'\\tshape is',npd.shape,'\\tsize is',npd.size)"
   ]
  },
  {
   "cell_type": "markdown",
   "metadata": {},
   "source": [
    "**DataFrame**  是一个表格型的数据结构,它包含有一组有序的列,每列可以是不同的值类型(数值,字符串,布尔值等).DataFrame既有行索引也有列索引,它可以被看做由Series组成的大字典.<br>\n",
    "关键字参数有:data,index,columns,dtype,copy"
   ]
  },
  {
   "cell_type": "code",
   "execution_count": null,
   "metadata": {},
   "outputs": [],
   "source": [
    "#这是一个照猫画猫的例子\n",
    "Index=pd.date_range('20180330',periods=3) #pandas.date_range一个显示时间戳的函数\n",
    "df=pd.DataFrame(data=np.random.randn(3,3),index=Index,columns=['a','b','c'])#np.random随机数\n",
    "print(df)"
   ]
  },
  {
   "cell_type": "code",
   "execution_count": null,
   "metadata": {},
   "outputs": [],
   "source": [
    "df_empty=pd.DataFrame() #empty DataFrame\n",
    "#data裸奔,默认index从0--N-1,columns从0--M-1\n",
    "df1=pd.DataFrame(np.arange(15).reshape([3,5]))#,dtype=float) \n",
    "print(df_empty,'\\n',df1)"
   ]
  },
  {
   "cell_type": "code",
   "execution_count": null,
   "metadata": {},
   "outputs": [],
   "source": [
    "#设置DF的列表，并查询各项信息\n",
    "DF=pd.DataFrame({'a': [12,4],\n",
    "               'b': np.array([np.e,np.pi],dtype='float32')})\n",
    "print(DF)\n",
    "print('\\nDF的值',DF.values,'\\nDF的属性',DF.dtypes,'\\nDF的行索引',DF.index,'\\nDF的列索引\\n'\n",
    "     ,DF.columns)\n",
    "\n",
    "print('\\nDF的总结\\n',DF.describe()) #std标准差\n",
    "\n",
    "#DF.T or DF.transpose() 转置\n",
    "print(DF.T)"
   ]
  },
  {
   "cell_type": "markdown",
   "metadata": {},
   "source": [
    "**DateFrame**可以灵活排序,有 sort_index(axis=?) sort_values(by=?) "
   ]
  },
  {
   "cell_type": "code",
   "execution_count": null,
   "metadata": {},
   "outputs": [],
   "source": [
    "#help(pd.DataFrame.sort_values)\n",
    "#help(pd.DataFrame.sort_index)\n",
    "\n",
    "#对a列的值由小到大排序\n",
    "print(DF.sort_values(by='a'))\n",
    "#对列index由大到小排序\n",
    "print(DF.sort_index(axis=1,ascending=False))"
   ]
  },
  {
   "cell_type": "markdown",
   "metadata": {},
   "source": [
    "## dataFrame数据选择<br>\n",
    "筛选的方式有很多，**简单筛选**，利用**标签**属性，以及常见的**片段选取**"
   ]
  },
  {
   "cell_type": "code",
   "execution_count": null,
   "metadata": {},
   "outputs": [],
   "source": [
    "import pandas as pd\n",
    "import numpy as np\n",
    "dates=pd.date_range('20170420',periods=4,tz='Asia/Hong_Kong') #定义一个时间序列\n",
    "#help(pd.date_range)\n",
    "data=pd.DataFrame(data=np.arange(12).reshape(4,3),index=dates,columns=['a','b','c'])\n",
    "print(data)\n",
    "print('\\n列标签输出',data['a'],'\\n\\n',data.a) #两种列标签输出\n",
    "print('\\n行标签输出',data[2:4]) #获取行的方式只有这一种，不能按标签输出"
   ]
  },
  {
   "cell_type": "markdown",
   "metadata": {},
   "source": [
    "利用标签***loc***方法筛选，<br>\n",
    "利用坐标***iloc***方法筛选。<br>\n",
    "以及两者混合***ix***方法"
   ]
  },
  {
   "cell_type": "code",
   "execution_count": null,
   "metadata": {},
   "outputs": [],
   "source": [
    "#loc方法\n",
    "print(data.loc['20170422']) #会输出对应行index的内容\n",
    "print(data.loc[:,['a','b']]) #输出列columns为['a','b']的所有行。\n",
    "print('\\n',data.loc['20170422',['a','b']]) #以上两者的交集"
   ]
  },
  {
   "cell_type": "code",
   "execution_count": null,
   "metadata": {},
   "outputs": [],
   "source": [
    "#iloc方法\n",
    "print(data.iloc[[1,3],:2]) #方法就和Matlab里面一样了\n",
    "#ix方法,把前两种混起来\n",
    "print(data.ix[1,['b','c']])\n",
    "#比较大小然后输出\n",
    "print(data.b[data['b']>5]) #data['b']>5是一个真假矩阵,传递了地址"
   ]
  },
  {
   "cell_type": "markdown",
   "metadata": {},
   "source": [
    "## DataFrame数据更改办法<br>\n",
    "数据可以直接更改,只要利用**坐标或索引**,条件更改也可以<br>"
   ]
  },
  {
   "cell_type": "code",
   "execution_count": null,
   "metadata": {},
   "outputs": [],
   "source": [
    "print(data)\n",
    "data1=data \n",
    "#利用loc,iloc,ix直接更改,也可以选一片更改\n",
    "data1.iloc[1,:2]=12\n",
    "print(data1)\n",
    "data1.loc['20170423',['a','c']]='change'\n",
    "print(data1)\n",
    "print(data) #data1只是data的一个别名,它们本质上是同一个变量\n",
    "#条件更改\n",
    "data[data.b<8]=0\n",
    "print(data)\n"
   ]
  },
  {
   "cell_type": "markdown",
   "metadata": {},
   "source": [
    "## DataFrame数据添加<br>\n",
    "可以直接在后面添加一个columns,类型可以是一组值,可以是Series"
   ]
  },
  {
   "cell_type": "code",
   "execution_count": null,
   "metadata": {},
   "outputs": [],
   "source": [
    "#直接用一个columns添加\n",
    "data['d']=[4,5,12,9]\n",
    "#Series的index必须与DataFrame的相匹配,不然会出问题.\n",
    "data['e']=pd.Series([np.nan,np.e,np.pi,13],index=pd.date_range('20170420',periods=4,tz='Asia/Hong_Kong'))\n",
    "print(data)"
   ]
  },
  {
   "cell_type": "markdown",
   "metadata": {},
   "source": [
    "## 数据丢失处理<br>\n",
    "空的数据在pandas中会以**NaN**的形式出现,可以把它们以某种方式剔除.<br>\n",
    "**DataFrame_name.dropna(axis=0, how='any'/ 'all', thresh=None, subset=None, inplace=False)<br>\n",
    "DataFrame_name.fillna(value=None, method=None, axis=None, inplace=False, limit=None, downcast=None)<br>\n",
    "DataFrame_name.isnull()**#Return a boolean same-sized object indicating if the values are null"
   ]
  },
  {
   "cell_type": "code",
   "execution_count": null,
   "metadata": {},
   "outputs": [],
   "source": [
    "data.iloc[1,1]=np.nan\n",
    "data.ix[3,['c']]=np.nan\n",
    "print(data)\n",
    "#delete line or column with NaN\n",
    "#'any' means if a NaN is inculed in one column ,the column will be deleted\n",
    "print(data.dropna(axis=1,how='any')) \n",
    "#fill the NaN \n",
    "print(data.fillna(value=520))\n",
    "#judge the DataFrame,Return a boolean\n",
    "print(data.isnull())# ==False) #It's a reversal"
   ]
  },
  {
   "cell_type": "markdown",
   "metadata": {},
   "source": [
    "## 导入导出<br>\n",
    "pandas支持很多文件的读与存,有ms excel,cvs,剪贴板,html等等[官方说明](http://pandas.pydata.org/pandas-docs/stable/io.html)<br>\n",
    "格式: read_文件后缀名,to_文件后缀名<br>\n",
    "[test_information](https://github.com/MorvanZhou/tutorials/blob/master/numpy%26pandas/15_read_to/student.csv)"
   ]
  },
  {
   "cell_type": "code",
   "execution_count": 30,
   "metadata": {},
   "outputs": [
    {
     "name": "stdout",
     "output_type": "stream",
     "text": [
      "    Student ID   name  age  gender\n",
      "0         1100  Kelly   22  Female\n",
      "1         1101    Clo   21  Female\n",
      "2         1102  Tilly   22  Female\n",
      "3         1103   Tony   24    Male\n",
      "4         1104  David   20    Male\n",
      "5         1105  Catty   22  Female\n",
      "6         1106      M    3  Female\n",
      "7         1107      N   43    Male\n",
      "8         1108      A   13    Male\n",
      "9         1109      S   12    Male\n",
      "10        1110  David   33    Male\n",
      "11        1111     Dw    3  Female\n",
      "12        1112      Q   23    Male\n",
      "13        1113      W   21  Female\n"
     ]
    }
   ],
   "source": [
    "excel=pd.read_clipboard()\n",
    "print(excel)\n",
    "excel.to_excel('student_information.xlsx') #类型加后缀"
   ]
  },
  {
   "cell_type": "code",
   "execution_count": null,
   "metadata": {},
   "outputs": [],
   "source": []
  }
 ],
 "metadata": {
  "kernelspec": {
   "display_name": "Python 3",
   "language": "python",
   "name": "python3"
  },
  "language_info": {
   "codemirror_mode": {
    "name": "ipython",
    "version": 3
   },
   "file_extension": ".py",
   "mimetype": "text/x-python",
   "name": "python",
   "nbconvert_exporter": "python",
   "pygments_lexer": "ipython3",
   "version": "3.6.1"
  }
 },
 "nbformat": 4,
 "nbformat_minor": 2
}
