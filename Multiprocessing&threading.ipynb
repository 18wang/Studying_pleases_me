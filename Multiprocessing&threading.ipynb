{
 "cells": [
  {
   "cell_type": "markdown",
   "metadata": {},
   "source": [
    "# 多进程与多线程<br>\n",
    "为了充分挖掘计算机的运算能力,采用多进程和多线程的方式进行运算<br>\n",
    "多进程与多线程的方法或函数的**首字母都需要大写!!**\n",
    "## 添加进程\n",
    "**td.Thread**是一个对象 一个属性: __init__(self, group=None, target=None, name=None, args=())<br>\n",
    "**mp.Process**用法和它高度类似"
   ]
  },
  {
   "cell_type": "code",
   "execution_count": 9,
   "metadata": {},
   "outputs": [
    {
     "name": "stdout",
     "output_type": "stream",
     "text": [
      "a job\n"
     ]
    }
   ],
   "source": [
    "import multiprocessing as mp\n",
    "import threading  as td\n",
    "#创建线程,进程\n",
    "def job(a,d):\n",
    "    print('a job')\n",
    "#help(mp.Process())\n",
    "#help(td.Thread())\n",
    "td1=td.Thread(target=job,args=(1,2))#target是调用的对象,args存放参数\n",
    "mp1=mp.Process(target=job,args=(1,2))\n",
    "#开始多线程和多进程\n",
    "td1.start()\n",
    "mp1.start()\n",
    "#连接线程和进程\n",
    "td1.join()\n",
    "mp1.join()"
   ]
  },
  {
   "cell_type": "code",
   "execution_count": 12,
   "metadata": {
    "collapsed": true
   },
   "outputs": [],
   "source": [
    "import multiprocessing as mp\n",
    "def plus(a,b):\n",
    "    print(a+b)\n",
    "if __name__=='__main__':\n",
    "    mp2=mp.Process(target=plus,args=(10,-3))\n",
    "    mp2.start()\n",
    "    mp2.join()\n",
    "#没有输出属于正常现象,在treminal下会有输出"
   ]
  },
  {
   "cell_type": "markdown",
   "metadata": {
    "collapsed": true
   },
   "source": [
    "### 在queue中存放结果<br>\n",
    "多进程在处理过程中是没有返回值的,我们习惯上用queue来存放程序运行的结果"
   ]
  },
  {
   "cell_type": "code",
   "execution_count": null,
   "metadata": {
    "collapsed": true
   },
   "outputs": [],
   "source": [
    "import multiprocessing as mp\n",
    "def job(Q):\n",
    "    L0=0\n",
    "    for i in range(100):\n",
    "        L0+=i\n",
    "    Q.put(L0)\n",
    "if __name__=='__main__':\n",
    "    Q=mp.Queue()\n",
    "    #定义p1,p2两个线程,同时处理job\n",
    "    p1=mp.Process(target=job,args=(Q,))\n",
    "    p2=mp.Process(target=job,args=(Q,))\n",
    "    p1.start()\n",
    "    p2.start()\n",
    "    p2.join()\n",
    "    p1.join()\n",
    "    Sum=Q.get()#两个进程同时操作的和\n",
    "    print(Sum)"
   ]
  },
  {
   "cell_type": "markdown",
   "metadata": {
    "collapsed": true
   },
   "source": [
    "## 多线程&多进程横评<br>\n",
    "运行时间通常是 多进程 < 普通 < 多线程，可见**mutliprocessing**效率最高。"
   ]
  },
  {
   "cell_type": "code",
   "execution_count": null,
   "metadata": {
    "collapsed": true
   },
   "outputs": [],
   "source": [
    "import multiprocessing as mp\n",
    "import threading as td\n",
    "import time  \n",
    "def job(Qu):\n",
    "    result=0\n",
    "    for i in range(5000000):\n",
    "        result+=i+i**2\n",
    "    Qu.put(result)\n",
    "def normal():\n",
    "    result=0\n",
    "    for i in range(5000000):\n",
    "        result+=i+i**2\n",
    "    return result\n",
    "\n",
    "if __name__=='__main__':\n",
    "    startp=time.time()\n",
    "    Qup=mp.Queue()\n",
    "    p1=mp.Process(target=job,args=(Qup,))\n",
    "    p2=mp.Process(target=job,args=(Qup,))\n",
    "    p1.start()\n",
    "    p2.start()\n",
    "    p1.join()\n",
    "    p2.join()\n",
    "    res1=Qup.get()\n",
    "    res2=Qup.get()\n",
    "    print(res1)\n",
    "    print(time.time()-startp)\n",
    "    \n",
    "    startt=time.time()\n",
    "    Qut=mp.Queue()\n",
    "    t1=td.Thread(target=job,args=(Qut,))\n",
    "    t2=td.Thread(target=job,args=(Qut,))\n",
    "    t1.start()\n",
    "    t2.start()\n",
    "    t1.join()\n",
    "    t2.join()\n",
    "    res1=Qut.get()\n",
    "    res2=Qut.get()\n",
    "    print(res1)\n",
    "    print(time.time()-startt)\n",
    "    \n",
    "    startn=time.time()\n",
    "    print(normal())\n",
    "    print(time.time()-startn)"
   ]
  },
  {
   "cell_type": "markdown",
   "metadata": {},
   "source": [
    "## 进程池pool<br>\n",
    "Pool可以由CPU主动进行多核处理<br>\n",
    "进程池可以获取返回值 pool.map()<br>\n",
    "还可以自定义核心数为n:  pool=mp.Pool(processes=n)"
   ]
  },
  {
   "cell_type": "code",
   "execution_count": null,
   "metadata": {
    "collapsed": true
   },
   "outputs": [],
   "source": [
    "def job(x):\n",
    "    return x*x\n",
    "def multi():\n",
    "    pool=mp.Pool()\n",
    "    result=pool.map(job,range(10))\n",
    "    print(result)\n",
    "if __name__=='__main__':\n",
    "    multi()"
   ]
  },
  {
   "cell_type": "markdown",
   "metadata": {},
   "source": [
    "**pool.apply_async()**也可以用于返回值()<br>\n",
    "它只能单值返回,好在它是可迭代的,用 _.get()_ 方法获取结果"
   ]
  },
  {
   "cell_type": "code",
   "execution_count": null,
   "metadata": {
    "collapsed": true
   },
   "outputs": [],
   "source": [
    "def job(x):\n",
    "    return x*x\n",
    "#并不一定要写成函数的形式,也可以直接在 __main__ 里边\n",
    "def multi():\n",
    "    pool=mp.Pool()\n",
    "    result=pool.apply_async(job,(6,)) #传入值注意是可迭代的，所以后需要加逗号\n",
    "    print(result.get())\n",
    "    result=[pool.apply_async(job,(i,)).get() for i in range(10)] \n",
    "    print(result)\n",
    "    return result\n",
    "    \n",
    "if __name__=='__main__':\n",
    "    multi()"
   ]
  },
  {
   "cell_type": "markdown",
   "metadata": {},
   "source": [
    "## 共享内存<br>\n",
    "多进程之间的信息需要交互与共享,因此有**shared memory**<br>\n",
    "一个multiprocessing中蛮有意思的功能.[官方格式](https://docs.python.org/3/library/array.html)"
   ]
  },
  {
   "cell_type": "code",
   "execution_count": null,
   "metadata": {
    "collapsed": true
   },
   "outputs": [],
   "source": [
    "import multiprocessing as mp\n",
    "\n",
    "#shared Value 只能存放一个数字\n",
    "data1=mp.Value('i',0) \n",
    "data2=mp.Value('b',67) #data2是'C'\n",
    "print(data1)\n",
    "#shared Array 只能存放一维数组\n",
    "lis1=mp.Array('d',[2.4,6,7.2,0.9])\n",
    "lis2=mp.Array('L',[45645465456,4565456465])\n",
    "print(lis2[0])"
   ]
  },
  {
   "cell_type": "markdown",
   "metadata": {},
   "source": [
    "## 进程锁<br>\n",
    "***mp.Lock()***<br>进程锁的存在是为了仿真多进程处理时轮流抢占内存,加了进程锁可以让两个进程分立运行."
   ]
  },
  {
   "cell_type": "code",
   "execution_count": null,
   "metadata": {
    "collapsed": true
   },
   "outputs": [],
   "source": [
    "import multiprocessing as mp\n",
    "import time\n",
    "def job(val,step,lock):\n",
    "    lock.acquire()  #上锁\n",
    "    for i in range(5):\n",
    "        val.value+=step\n",
    "        print(val.value)\n",
    "        time.sleep(0.1)\n",
    "    lock.release()  #开锁\n",
    "\n",
    "def uselock():\n",
    "    val=mp.Value('i',0)  #共享的数据\n",
    "    lock=mp.Lock()  #建立进程锁\n",
    "    p1=mp.Process(target=job,args=(val,1,lock))\n",
    "    p2=mp.Process(target=job,args=(val,3,lock))\n",
    "    p1.start()\n",
    "    p2.start()\n",
    "    p1.join()\n",
    "    p2.join()\n",
    "\n",
    "if __name__=='__main__':\n",
    "    uselock()\n",
    "#没有输出\n"
   ]
  }
 ],
 "metadata": {
  "kernelspec": {
   "display_name": "Python 3",
   "language": "python",
   "name": "python3"
  },
  "language_info": {
   "codemirror_mode": {
    "name": "ipython",
    "version": 3
   },
   "file_extension": ".py",
   "mimetype": "text/x-python",
   "name": "python",
   "nbconvert_exporter": "python",
   "pygments_lexer": "ipython3",
   "version": "3.6.1"
  }
 },
 "nbformat": 4,
 "nbformat_minor": 2
}
